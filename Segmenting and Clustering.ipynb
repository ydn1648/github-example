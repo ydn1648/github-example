{
 "cells": [
  {
   "cell_type": "code",
   "execution_count": null,
   "metadata": {},
   "outputs": [],
   "source": [
    "from bs4 import BeautifulSoup\n",
    "import requests\n",
    "import pandas as pd\n",
    "source = requests.get('https://en.wikipedia.org/wiki/List_of_postal_codes_of_Canada:_M').text\n",
    "soup = BeautifulSoup(source, 'lxml')\n",
    "table = soup.find('table', class_=\"wikitable sortable\")\n",
    "datalist = table.find_all('td')\n",
    "df = pd.DataFrame()\n",
    "x=0\n",
    "while True:\n",
    "    PostalCode = datalist[3*x].text\n",
    "    Borough = datalist[3*x+1].text\n",
    "    Neighborhood = datalist[3*x+2].text\n",
    "    Neighborhood = Neighborhood.strip('\\n')\n",
    "    df = df.append(pd.DataFrame({'Postal Code': PostalCode, 'Borough': Borough, 'Neighborhood': Neighborhood}, index = [0]), ignore_index = True)\n",
    "    if x == ((864-3)/3):\n",
    "        break\n",
    "    x+=1\n",
    "df = df[df['Borough'] != 'Not assigned']\n",
    "for index, row in df.iterrows():\n",
    "    if row['Neighborhood'] == 'Not assigned':\n",
    "        row['Neighborhood'] = row['Borough']"
   ]
  },
  {
   "cell_type": "code",
   "execution_count": null,
   "metadata": {},
   "outputs": [],
   "source": [
    "df['Neighborhood'] = df['Neighborhood'].apply(lambda x:x+',')\n",
    "df_group = df.groupby(by=['Postal Code', 'Borough']).sum()\n",
    "# df_group"
   ]
  },
  {
   "cell_type": "code",
   "execution_count": null,
   "metadata": {},
   "outputs": [],
   "source": [
    "df_geo = pd.DataFrame()\n",
    "df_geo = pd.read_csv('Geospatial_Coordinates.csv')\n",
    "# df_geo"
   ]
  },
  {
   "cell_type": "code",
   "execution_count": null,
   "metadata": {},
   "outputs": [],
   "source": [
    "df_gp = df_group.merge(df_geo, how='left', on=['Postal Code'])\n",
    "df_gp"
   ]
  },
  {
   "cell_type": "code",
   "execution_count": null,
   "metadata": {},
   "outputs": [],
   "source": [
    "df_group"
   ]
  },
  {
   "cell_type": "code",
   "execution_count": null,
   "metadata": {},
   "outputs": [],
   "source": []
  }
 ],
 "metadata": {
  "kernelspec": {
   "display_name": "Python 3",
   "language": "python",
   "name": "python3"
  },
  "language_info": {
   "codemirror_mode": {
    "name": "ipython",
    "version": 3
   },
   "file_extension": ".py",
   "mimetype": "text/x-python",
   "name": "python",
   "nbconvert_exporter": "python",
   "pygments_lexer": "ipython3",
   "version": "3.6.7"
  }
 },
 "nbformat": 4,
 "nbformat_minor": 4
}
