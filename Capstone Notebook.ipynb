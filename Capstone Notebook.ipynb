import pandas as np
import numpy as np
print("Hello Capstone Project Course!")
